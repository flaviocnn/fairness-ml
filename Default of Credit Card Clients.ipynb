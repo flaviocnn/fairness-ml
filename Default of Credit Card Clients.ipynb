{
 "cells": [
  {
   "cell_type": "code",
   "execution_count": null,
   "metadata": {},
   "outputs": [],
   "source": [
    "import datetime\n",
    "import numpy as np\n",
    "import pandas as pd\n",
    "import plotly.graph_objects as go\n",
    "import plotly.express as px\n",
    "import plotly as py\n",
    "from ipywidgets import widgets\n",
    "import numpy as np\n",
    "import seaborn as sns\n",
    "import matplotlib.pyplot as plt\n",
    "import statsmodels.api as sm\n",
    "import scipy.stats as ss\n",
    "from statsmodels.graphics.mosaicplot import mosaic\n",
    "\n",
    "import myutilities as m\n",
    "\n",
    "m.hide_toggle()"
   ]
  },
  {
   "cell_type": "markdown",
   "metadata": {},
   "source": [
    "# Default of Credit Card Clients Dataset\n",
    "There are 25 variables:\n",
    "\n",
    "* ID: ID of each client\n",
    "* LIMIT_BAL: Amount of given credit in NT dollars (includes individual and family/supplementary credit\n",
    "* SEX: Gender (1=male, 2=female)\n",
    "* EDUCATION: (1=graduate school, 2=university, 3=high school, 4=others, 5=unknown, 6=unknown)\n",
    "* MARRIAGE: Marital status (1=married, 2=single, 3=others)\n",
    "* AGE: Age in years\n",
    "* PAY_0: Repayment status in September, 2005 (-1=pay duly, 1=payment delay for one month, 2=payment delay for two months, ... 8=payment delay for eight months, 9=payment delay for nine months and above)\n",
    "* PAY_2: Repayment status in August, 2005 (scale same as above)\n",
    "* PAY_3: Repayment status in July, 2005 (scale same as above)\n",
    "* PAY_4: Repayment status in June, 2005 (scale same as above)\n",
    "* PAY_5: Repayment status in May, 2005 (scale same as above)\n",
    "* PAY_6: Repayment status in April, 2005 (scale same as above)\n",
    "* BILL_AMT1: Amount of bill statement in September, 2005 (NT dollar)\n",
    "* BILL_AMT2: Amount of bill statement in August, 2005 (NT dollar)\n",
    "* BILL_AMT3: Amount of bill statement in July, 2005 (NT dollar)\n",
    "* BILL_AMT4: Amount of bill statement in June, 2005 (NT dollar)\n",
    "* BILL_AMT5: Amount of bill statement in May, 2005 (NT dollar)\n",
    "* BILL_AMT6: Amount of bill statement in April, 2005 (NT dollar)\n",
    "* PAY_AMT1: Amount of previous payment in September, 2005 (NT dollar)\n",
    "* PAY_AMT2: Amount of previous payment in August, 2005 (NT dollar)\n",
    "* PAY_AMT3: Amount of previous payment in July, 2005 (NT dollar)\n",
    "* PAY_AMT4: Amount of previous payment in June, 2005 (NT dollar)\n",
    "* PAY_AMT5: Amount of previous payment in May, 2005 (NT dollar)\n",
    "* PAY_AMT6: Amount of previous payment in April, 2005 (NT dollar)\n",
    "* default.payment.next.month: Default payment (1=yes, 0=no)"
   ]
  },
  {
   "cell_type": "code",
   "execution_count": null,
   "metadata": {},
   "outputs": [],
   "source": [
    "df = pd.read_csv('input/UCI_Credit_Card.csv')\n",
    "#ucd = df.copy()\n",
    "dict_default = {1:\"Sì\", 0:\"No\"}\n",
    "df[\"default.payment.next.month\"].replace(dict_default, inplace=True)\n",
    "df = df[['SEX','EDUCATION','MARRIAGE','AGE','default.payment.next.month']]\n",
    "\n",
    "bins = [0, 25, 40, 100]\n",
    "labels = [\"1-25\",\"25-40\",\"40-100\"]\n",
    "df['AGE-bin'] = pd.cut(df['AGE'], bins=bins, labels=labels)\n",
    "df.head()\n"
   ]
  },
  {
   "cell_type": "code",
   "execution_count": null,
   "metadata": {
    "scrolled": false
   },
   "outputs": [],
   "source": [
    "cat_decoding_dict = {\"SEX\": {1: \"Maschio\", 2: \"Femmina\"},\n",
    "            \"EDUCATION\": {1:\"graduate school\", 2:\"university\", 3:\"high school\", 4:\"others\", 5:\"unknown\", 6:\"unknown\"},\n",
    "            \"MARRIAGE\": {1:\"married\", 2:\"single\", 3:\"others\"}\n",
    "           }\n",
    "\n",
    "protected_cat = ['SEX','EDUCATION','MARRIAGE','AGE','AGE-bin']\n",
    "target_column = 'default.payment.next.month'\n",
    "\n",
    "for category in protected_cat:\n",
    "    if(category not in ['AGE','AGE-bin']): df[category].replace(cat_decoding_dict[category], inplace=True)\n",
    "    s = df[category].value_counts() ## Counts the occurrence of unqiue elements and stores in a variable called \"s\" which is series type\n",
    "    count = pd.DataFrame({'Età':s.index, 'Individui':s.values}) \n",
    "    if(category is not 'AGE'): \n",
    "        m.bar_plot(s, category)\n",
    "    else:\n",
    "        plot = px.bar(count,x = 'Età', y = 'Individui', color = 'Individui',color_continuous_scale=\"Viridis\")\n",
    "        fig = go.Figure(data=plot)\n",
    "        fig.update_layout(title_text=\"Frequenza Per Età\")\n",
    "        fig.show()\n",
    "    m.disproportion_index(s, category)\n",
    "    raceXscore = df.groupby([category, target_column]).size()\n",
    "    m.disproportion_index(raceXscore, '{} + {}'.format(category,target_column))"
   ]
  },
  {
   "cell_type": "markdown",
   "metadata": {},
   "source": [
    "## Chi-Square test\n",
    "The Chi Square statistic is commonly used for testing relationships between categorical variables. \n",
    "The null hypothesis of the Chi-Square test is that no relationship exists on the categorical variables in the population (they are independent). The Chi-Square statistic is most commonly used to evaluate Tests of Independence when using a crosstabulation (also known as a bivariate table).  \n",
    "\n",
    "Crosstabulation presents the distributions of two categorical variables simultaneously, with the intersections of the categories of the variables appearing in the cells of the table. The Test of Independence assesses whether an association exists between the two variables by comparing the observed pattern of responses in the cells to the pattern that would be expected if the variables were truly independent of each other. Calculating the Chi-Square statistic and comparing it against a critical value from the Chi-Square distribution allows the researcher to assess whether the observed cell counts are significantly different from the expected cell counts.\n",
    "\n",
    "### p-value \n",
    "It give us a probability of finding some association by chance in the case of independence of variables (association strength = 0). Very small p-value, usually lower than 0.05, tell us the null-hypothesis is rejected, so the considered variables are related and not independent.\n",
    "\n",
    "### Pearson standardized residuals \n",
    "The strength of a relation can be thought as a measure of how much the observed values deviate from the values in case of independence (independence = total missing of any kind of relation among variables). The Pearson standardized residuals measure the departure of each cell from independence."
   ]
  },
  {
   "cell_type": "code",
   "execution_count": null,
   "metadata": {
    "scrolled": false
   },
   "outputs": [],
   "source": [
    "for category in ['SEX','EDUCATION','MARRIAGE']:\n",
    "    m.chi2_pearson(category, df, 'default.payment.next.month')"
   ]
  }
 ],
 "metadata": {
  "celltoolbar": "Edit Metadata",
  "kernelspec": {
   "display_name": "Python 3",
   "language": "python",
   "name": "python3"
  },
  "language_info": {
   "codemirror_mode": {
    "name": "ipython",
    "version": 3
   },
   "file_extension": ".py",
   "mimetype": "text/x-python",
   "name": "python",
   "nbconvert_exporter": "python",
   "pygments_lexer": "ipython3",
   "version": "3.7.5"
  }
 },
 "nbformat": 4,
 "nbformat_minor": 2
}
